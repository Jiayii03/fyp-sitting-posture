{
 "cells": [
  {
   "cell_type": "markdown",
   "metadata": {},
   "source": [
    "## Sitting Posture Inference Server"
   ]
  },
  {
   "cell_type": "markdown",
   "metadata": {},
   "source": [
    "### Load the model"
   ]
  },
  {
   "cell_type": "code",
   "execution_count": 61,
   "metadata": {},
   "outputs": [],
   "source": [
    "import sys\n",
    "import os\n",
    "import torch\n",
    "\n",
    "# Add the directory to sys.path\n",
    "model_dir = \"../models/2024-11-24_16-34-03\"\n",
    "sys.path.append(model_dir)\n",
    "\n",
    "# Import the MLP class\n",
    "# from model import MLP"
   ]
  },
  {
   "cell_type": "markdown",
   "metadata": {},
   "source": [
    "### Get test data"
   ]
  },
  {
   "cell_type": "code",
   "execution_count": 62,
   "metadata": {},
   "outputs": [
    {
     "name": "stdout",
     "output_type": "stream",
     "text": [
      "Data Row: nose_x                  0.41201\n",
      "nose_y                 0.361206\n",
      "left_shoulder_x        0.441131\n",
      "left_shoulder_y        0.569052\n",
      "right_shoulder_x       0.210063\n",
      "right_shoulder_y       0.551094\n",
      "left_hip_x             0.416628\n",
      "left_hip_y             1.067228\n",
      "right_hip_x            0.253567\n",
      "right_hip_y            1.078241\n",
      "left_knee_x                 0.0\n",
      "left_knee_y                 0.0\n",
      "right_knee_x                0.0\n",
      "right_knee_y                0.0\n",
      "left_ankle_x                0.0\n",
      "left_ankle_y                0.0\n",
      "right_ankle_x               0.0\n",
      "right_ankle_y               0.0\n",
      "shoulder_midpoint_x    0.325597\n",
      "shoulder_midpoint_y    0.560073\n",
      "class                    proper\n",
      "Name: 217, dtype: object\n",
      "Normalized Features Tensor: tensor([[-0.5676,  0.7229, -0.7042,  1.8019, -1.3408,  1.5607, -0.7194,  2.4101,\n",
      "         -1.2960,  2.4391, -1.1693, -1.2376, -1.1879, -1.2423, -0.9315, -1.0362,\n",
      "         -0.9275, -0.9811, -1.0687,  1.7107]])\n"
     ]
    }
   ],
   "source": [
    "import pandas as pd\n",
    "import numpy as np\n",
    "import torch\n",
    "\n",
    "# Load the dataset\n",
    "data = pd.read_csv(\"../models/2024-11-24_16-34-03/xy_filtered_keypoints_vectors_mediapipe.csv\")\n",
    "\n",
    "# Extract the specific row for inference\n",
    "row = data.iloc[217]\n",
    "print(\"Data Row:\", row)\n",
    "\n",
    "# Separate features and label\n",
    "features = row.drop(\"class\").values.astype(np.float32)  # Ensure float32 for PyTorch\n",
    "true_label = row[\"class\"]\n",
    "\n",
    "# Load the saved scaler's mean and scale\n",
    "from sklearn.preprocessing import StandardScaler\n",
    "scaler = StandardScaler()\n",
    "scaler.mean_ = np.load(\"../models/2024-11-24_16-34-03/scaler_mean.npy\")  # Load the saved mean\n",
    "scaler.scale_ = np.load(\"../models/2024-11-24_16-34-03/scaler_scale.npy\")  # Load the saved scale\n",
    "\n",
    "# Normalize the feature vector using the loaded scaler\n",
    "features_normalized = scaler.transform([features])  # StandardScaler expects a 2D array\n",
    "\n",
    "# Convert the normalized features to a PyTorch tensor\n",
    "features_tensor = torch.tensor(features_normalized, dtype=torch.float32)\n",
    "print(\"Normalized Features Tensor:\", features_tensor)\n"
   ]
  },
  {
   "cell_type": "markdown",
   "metadata": {},
   "source": [
    "### Recreate the model"
   ]
  },
  {
   "cell_type": "code",
   "execution_count": 63,
   "metadata": {},
   "outputs": [
    {
     "name": "stderr",
     "output_type": "stream",
     "text": [
      "C:\\Users\\User\\AppData\\Local\\Temp\\ipykernel_55656\\546617223.py:30: FutureWarning: You are using `torch.load` with `weights_only=False` (the current default value), which uses the default pickle module implicitly. It is possible to construct malicious pickle data which will execute arbitrary code during unpickling (See https://github.com/pytorch/pytorch/blob/main/SECURITY.md#untrusted-models for more details). In a future release, the default value for `weights_only` will be flipped to `True`. This limits the functions that could be executed during unpickling. Arbitrary objects will no longer be allowed to be loaded via this mode unless they are explicitly allowlisted by the user via `torch.serialization.add_safe_globals`. We recommend you start setting `weights_only=True` for any use case where you don't have full control of the loaded file. Please open an issue on GitHub for any issues related to this experimental feature.\n",
      "  model.load_state_dict(torch.load(\"../models/2024-11-24_16-34-03/epochs_150_lr_1e-03_wd_1e-03_acc_8298.pth\"))\n"
     ]
    },
    {
     "data": {
      "text/plain": [
       "MLP(\n",
       "  (model): Sequential(\n",
       "    (0): Linear(in_features=20, out_features=256, bias=True)\n",
       "    (1): BatchNorm1d(256, eps=1e-05, momentum=0.1, affine=True, track_running_stats=True)\n",
       "    (2): LeakyReLU(negative_slope=0.01)\n",
       "    (3): Dropout(p=0.5, inplace=False)\n",
       "    (4): Linear(in_features=256, out_features=128, bias=True)\n",
       "    (5): BatchNorm1d(128, eps=1e-05, momentum=0.1, affine=True, track_running_stats=True)\n",
       "    (6): LeakyReLU(negative_slope=0.01)\n",
       "    (7): Dropout(p=0.5, inplace=False)\n",
       "    (8): Linear(in_features=128, out_features=64, bias=True)\n",
       "    (9): LeakyReLU(negative_slope=0.01)\n",
       "    (10): Linear(in_features=64, out_features=4, bias=True)\n",
       "  )\n",
       ")"
      ]
     },
     "execution_count": 63,
     "metadata": {},
     "output_type": "execute_result"
    }
   ],
   "source": [
    "import torch.nn as nn\n",
    "\n",
    "input_size = features_tensor.shape[1]  # Number of features\n",
    "num_classes = len(data[\"class\"].unique())  # Number of unique classes\n",
    "\n",
    "# Define the model architecture to match the saved model\n",
    "class MLP(nn.Module):\n",
    "\tdef __init__(self, input_size, num_classes):\n",
    "\t\tsuper(MLP, self).__init__()\n",
    "\t\tself.model = nn.Sequential(\n",
    "\t\t\tnn.Linear(input_size, 256),\n",
    "\t\t\tnn.BatchNorm1d(256),\n",
    "\t\t\tnn.LeakyReLU(negative_slope=0.01),\n",
    "\t\t\tnn.Dropout(0.5),\n",
    "\t\t\tnn.Linear(256, 128),\n",
    "\t\t\tnn.BatchNorm1d(128),\n",
    "\t\t\tnn.LeakyReLU(negative_slope=0.01),\n",
    "\t\t\tnn.Dropout(0.5),\n",
    "\t\t\tnn.Linear(128, 64),\n",
    "\t\t\tnn.LeakyReLU(negative_slope=0.01),\n",
    "\t\t\tnn.Linear(64, num_classes)\n",
    "\t\t)\n",
    "\n",
    "\tdef forward(self, x):\n",
    "\t\treturn self.model(x)\n",
    "\n",
    "model = MLP(input_size=input_size, num_classes=num_classes)\n",
    "\n",
    "# Load the saved model weights\n",
    "model.load_state_dict(torch.load(\"../models/2024-11-24_16-34-03/epochs_150_lr_1e-03_wd_1e-03_acc_8298.pth\"))\n",
    "model.eval()  # Set the model to evaluation mode"
   ]
  },
  {
   "cell_type": "markdown",
   "metadata": {},
   "source": [
    "### Do Prediction"
   ]
  },
  {
   "cell_type": "code",
   "execution_count": 64,
   "metadata": {},
   "outputs": [
    {
     "name": "stdout",
     "output_type": "stream",
     "text": [
      "True label: proper\n",
      "Predicted label: 1 (proper)\n",
      "Correct prediction!\n"
     ]
    }
   ],
   "source": [
    "# Predict\n",
    "with torch.no_grad():\n",
    "    output = model(features_tensor)\n",
    "    _, predicted_class = torch.max(output, 1)\n",
    "\n",
    "# Print the results\n",
    "class_labels = [\"crossed_legs\", \"proper\", \"slouching\", \"reclining\"]  # Update based on your class order\n",
    "print(f\"True label: {true_label}\")\n",
    "print(f\"Predicted label: {predicted_class.item()} ({class_labels[predicted_class.item()]})\")\n",
    "\n",
    "if true_label == class_labels[predicted_class.item()]:\n",
    "    print(\"Correct prediction!\")"
   ]
  },
  {
   "cell_type": "code",
   "execution_count": null,
   "metadata": {},
   "outputs": [],
   "source": []
  }
 ],
 "metadata": {
  "kernelspec": {
   "display_name": "Python 3",
   "language": "python",
   "name": "python3"
  },
  "language_info": {
   "codemirror_mode": {
    "name": "ipython",
    "version": 3
   },
   "file_extension": ".py",
   "mimetype": "text/x-python",
   "name": "python",
   "nbconvert_exporter": "python",
   "pygments_lexer": "ipython3",
   "version": "3.12.6"
  }
 },
 "nbformat": 4,
 "nbformat_minor": 2
}
