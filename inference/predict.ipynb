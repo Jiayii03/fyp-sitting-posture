{
 "cells": [
  {
   "cell_type": "markdown",
   "metadata": {},
   "source": [
    "## Sitting Posture Inference Server"
   ]
  },
  {
   "cell_type": "markdown",
   "metadata": {},
   "source": [
    "### Load the model"
   ]
  },
  {
   "cell_type": "code",
   "execution_count": null,
   "metadata": {},
   "outputs": [],
   "source": [
    "import sys\n",
    "import os\n",
    "import torch\n",
    "\n",
    "# Add the directory to sys.path\n",
    "model_dir = \"../models/2024-11-24_00-04-05\"\n",
    "sys.path.append(model_dir)\n",
    "\n",
    "# Import the MLP class\n",
    "from model import MLP"
   ]
  },
  {
   "cell_type": "markdown",
   "metadata": {},
   "source": [
    "### Get test data"
   ]
  },
  {
   "cell_type": "code",
   "execution_count": 5,
   "metadata": {},
   "outputs": [],
   "source": [
    "import pandas as pd\n",
    "import numpy as np\n",
    "\n",
    "# Load the dataset\n",
    "data = pd.read_csv(\"../../datasets/vectors/augmented_xy_filtered_keypoints_vectors_mediapipe.csv\")\n",
    "\n",
    "# Extract the first row\n",
    "row = data.iloc[0]\n",
    "\n",
    "# Separate features and label\n",
    "features = row.drop(\"class\").values.astype(np.float32)  # Ensure float32 for PyTorch\n",
    "true_label = row[\"class\"]\n",
    "\n",
    "# Load the scaler (use the same scaler from training)\n",
    "from sklearn.preprocessing import StandardScaler\n",
    "scaler = StandardScaler()\n",
    "data_features = data.drop(columns=[\"class\"]).values  # Exclude the 'class' column\n",
    "scaler.fit(data_features)  # Fit scaler on the entire dataset (or use saved scaler)\n",
    "features = scaler.transform([features])  # Normalize the feature vector\n",
    "\n",
    "# Convert to tensor\n",
    "features_tensor = torch.tensor(features, dtype=torch.float32)"
   ]
  },
  {
   "cell_type": "markdown",
   "metadata": {},
   "source": [
    "### Recreate the model"
   ]
  },
  {
   "cell_type": "code",
   "execution_count": 7,
   "metadata": {},
   "outputs": [
    {
     "name": "stderr",
     "output_type": "stream",
     "text": [
      "C:\\Users\\User\\AppData\\Local\\Temp\\ipykernel_72736\\959964167.py:6: FutureWarning: You are using `torch.load` with `weights_only=False` (the current default value), which uses the default pickle module implicitly. It is possible to construct malicious pickle data which will execute arbitrary code during unpickling (See https://github.com/pytorch/pytorch/blob/main/SECURITY.md#untrusted-models for more details). In a future release, the default value for `weights_only` will be flipped to `True`. This limits the functions that could be executed during unpickling. Arbitrary objects will no longer be allowed to be loaded via this mode unless they are explicitly allowlisted by the user via `torch.serialization.add_safe_globals`. We recommend you start setting `weights_only=True` for any use case where you don't have full control of the loaded file. Please open an issue on GitHub for any issues related to this experimental feature.\n",
      "  model.load_state_dict(torch.load(\"../models/2024-11-24_00-04-05/epochs_50_lr_1e-03_acc_76.pth\"))\n"
     ]
    },
    {
     "data": {
      "text/plain": [
       "MLP(\n",
       "  (model): Sequential(\n",
       "    (0): Linear(in_features=20, out_features=128, bias=True)\n",
       "    (1): ReLU()\n",
       "    (2): Linear(in_features=128, out_features=64, bias=True)\n",
       "    (3): ReLU()\n",
       "    (4): Linear(in_features=64, out_features=4, bias=True)\n",
       "  )\n",
       ")"
      ]
     },
     "execution_count": 7,
     "metadata": {},
     "output_type": "execute_result"
    }
   ],
   "source": [
    "input_size = features_tensor.shape[1]  # Number of features\n",
    "num_classes = len(data[\"class\"].unique())  # Number of unique classes\n",
    "model = MLP(input_size=input_size, num_classes=num_classes)\n",
    "\n",
    "# Load the saved model weights\n",
    "model.load_state_dict(torch.load(\"../models/2024-11-24_00-04-05/epochs_50_lr_1e-03_acc_76.pth\"))\n",
    "model.eval()  # Set the model to evaluation mode"
   ]
  },
  {
   "cell_type": "markdown",
   "metadata": {},
   "source": [
    "### Do Prediction"
   ]
  },
  {
   "cell_type": "code",
   "execution_count": 11,
   "metadata": {},
   "outputs": [
    {
     "name": "stdout",
     "output_type": "stream",
     "text": [
      "True label: crossed_legs\n",
      "Predicted label: 0 (crossed_legs)\n",
      "Correct prediction!\n"
     ]
    }
   ],
   "source": [
    "# Predict\n",
    "with torch.no_grad():\n",
    "    output = model(features_tensor)\n",
    "    _, predicted_class = torch.max(output, 1)\n",
    "\n",
    "# Print the results\n",
    "class_labels = [\"crossed_legs\", \"proper\", \"slouching\", \"reclining\"]  # Update based on your class order\n",
    "print(f\"True label: {true_label}\")\n",
    "print(f\"Predicted label: {predicted_class.item()} ({class_labels[predicted_class.item()]})\")\n",
    "\n",
    "if true_label == class_labels[predicted_class.item()]:\n",
    "    print(\"Correct prediction!\")"
   ]
  },
  {
   "cell_type": "code",
   "execution_count": null,
   "metadata": {},
   "outputs": [],
   "source": []
  }
 ],
 "metadata": {
  "kernelspec": {
   "display_name": "Python 3",
   "language": "python",
   "name": "python3"
  },
  "language_info": {
   "codemirror_mode": {
    "name": "ipython",
    "version": 3
   },
   "file_extension": ".py",
   "mimetype": "text/x-python",
   "name": "python",
   "nbconvert_exporter": "python",
   "pygments_lexer": "ipython3",
   "version": "3.12.6"
  }
 },
 "nbformat": 4,
 "nbformat_minor": 2
}
